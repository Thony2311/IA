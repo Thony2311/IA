{
  "nbformat": 4,
  "nbformat_minor": 0,
  "metadata": {
    "colab": {
      "provenance": [],
      "include_colab_link": true
    },
    "kernelspec": {
      "name": "python3",
      "display_name": "Python 3"
    },
    "language_info": {
      "name": "python"
    }
  },
  "cells": [
    {
      "cell_type": "markdown",
      "metadata": {
        "id": "view-in-github",
        "colab_type": "text"
      },
      "source": [
        "<a href=\"https://colab.research.google.com/github/Thony2311/IA/blob/main/Clasificaci%C3%B3n.ipynb\" target=\"_parent\"><img src=\"https://colab.research.google.com/assets/colab-badge.svg\" alt=\"Open In Colab\"/></a>"
      ]
    },
    {
      "cell_type": "markdown",
      "source": [
        "### <p align=center>**Métodos de clasificación. Miniproyecto 2 Fundamentos y Aplicaciones de I.A.**\n",
        "\n",
        "---\n",
        "\n",
        "\n",
        "#### <p align=center>Anthony Alzate Muriel\n",
        "#### <p align=center>2019"
      ],
      "metadata": {
        "id": "g0YgHdDbHoUs"
      }
    },
    {
      "cell_type": "markdown",
      "metadata": {
        "id": "IdxAfSHFC_cl"
      },
      "source": [
        "#Información del Dataset"
      ]
    },
    {
      "cell_type": "markdown",
      "metadata": {
        "id": "Utux1FJkxrad"
      },
      "source": [
        "En este proyecto se trabajará con el dataset llamado \"Zoo Data Set\", el cual busca estimar a que familia o categoria pertenece cada animal (según la clasificación de los seres vivos) a partir de un conjunto de atributos propios de cada especie. Siguiendo este objetivo, se tiene una única salida (type) que divide en 7 clases, según la información proporcionada por el dataset, la cual se presentan a continuación.\n",
        "* Clase 1: Mamíferos (antílope, oso, jabalí, búfalo, venado, delfín, elefante, jirafa, cabra, gorila, hámster, león, lince, etc.)\n",
        "* Clase 2: Aves (pollo, cuervo, paloma, pato, flamenco, gaviota, halcón, avestruz, perico, pingüino, gorrión, cisne, buitre, etc.)\n",
        "* Clase 3: Reptiles (pitviper, serpiente marina, lombriz lenta, tortuga, tuatara)\n",
        "* Clase 4: Peces (lubina, carpa, bagre, chub, pez perro, eglefino, arenque, lucio, piraña, atún, etc.)\n",
        "* Clase 5: Anfibios (rana , tritón, sapo)\n",
        "* Clase 6: Insectos (pulgas, mosquitos, abejas, moscas domésticas, mariquitas, polillas, termitas, avispas)\n",
        "* Clase 7: Otros invertebrados (almejas, cangrejos, langostas, pulpos, escorpiones, babosas, estrellas de mar, gusanos, etc.)"
      ]
    },
    {
      "cell_type": "markdown",
      "metadata": {
        "id": "kGQznwUS3n8G"
      },
      "source": [
        "Por otro lado, se consideraran los siguientes parámetros de entrada, los cuales en su mayoria corresponden a variables binarias o booleanas, es decir que si el animal tiene ese atributo se le asigna un valor de 1, de lo contrario 0.\n",
        "1. Animal name (Nombre del animal): único para cada instancia\n",
        "2. Hair (Pelo): booleano\n",
        "3. Feathers (Plumas): booleano\n",
        "4. Eggs (Huevos): booleano\n",
        "5. Milk (Leche): booleano\n",
        "6. Airbone (Volador): booleano\n",
        "7. Aquatic (Acuático): booleano\n",
        "8. Predator (Depredador): booleano\n",
        "9. Toothead (Dentado): booleano\n",
        "10. Backbone (Columna vertebral): booleano\n",
        "11. Breathes (Respira): booleano\n",
        "12. Venomous (Venenoso): booleano\n",
        "13. Fins (Aletas): booleano\n",
        "14. Legs (Patas): Número (valores: 0, 2, 4, 5, 6, 8)\n",
        "15. Tail (Cola): Booleano\n",
        "16. Domestic (Doméstico): Booleano\n",
        "17. Catsize (Tamaño de gato): Booleano"
      ]
    },
    {
      "cell_type": "markdown",
      "metadata": {
        "id": "rH5biL6R8IYv"
      },
      "source": [
        "En primer lugar se importan las librerias necesarias"
      ]
    },
    {
      "cell_type": "code",
      "metadata": {
        "id": "3GvwqEV_roFF"
      },
      "source": [
        "import pandas as pd\n",
        "import numpy as np\n",
        "import matplotlib.pyplot as plt\n",
        "\n",
        "from sklearn.model_selection import train_test_split\n",
        "from sklearn.preprocessing import MinMaxScaler\n",
        "from sklearn.preprocessing import StandardScaler\n",
        "\n",
        "from sklearn.linear_model import Perceptron\n",
        "from sklearn.metrics import accuracy_score\n",
        "from sklearn.metrics import confusion_matrix\n",
        "from sklearn.metrics import precision_score\n",
        "from sklearn.metrics import recall_score\n",
        "from sklearn.linear_model import LogisticRegression\n",
        "from sklearn.pipeline import Pipeline\n",
        "from sklearn.svm import LinearSVC\n",
        "from sklearn.preprocessing import PolynomialFeatures\n",
        "from sklearn.svm import SVC"
      ],
      "execution_count": null,
      "outputs": []
    },
    {
      "cell_type": "markdown",
      "metadata": {
        "id": "PGtdxARH8iSl"
      },
      "source": [
        "Se carga el dataset"
      ]
    },
    {
      "cell_type": "code",
      "metadata": {
        "id": "KxMNXX3V5PkX",
        "colab": {
          "base_uri": "https://localhost:8080/",
          "height": 204
        },
        "outputId": "60a98009-2045-4c75-f4f5-12a104346155"
      },
      "source": [
        "zoo = pd.read_csv(\"http://archive.ics.uci.edu/ml/machine-learning-databases/zoo/zoo.data\",\n",
        "                 names = [\"Hair\",\"Feathers\",\"Eggs\",\"Milk\",\"Airborn\",\"Aquatic\",\"Predator\",\"Thootead\",\"Backbone\",\"Breathes\",\"Venomous\",\"Fins\",\"Legs\",\"Tail\",\"Domestic\",\"Catsize\",\"Type\"])\n",
        "zoo.head()\n"
      ],
      "execution_count": null,
      "outputs": [
        {
          "output_type": "execute_result",
          "data": {
            "text/html": [
              "<div>\n",
              "<style scoped>\n",
              "    .dataframe tbody tr th:only-of-type {\n",
              "        vertical-align: middle;\n",
              "    }\n",
              "\n",
              "    .dataframe tbody tr th {\n",
              "        vertical-align: top;\n",
              "    }\n",
              "\n",
              "    .dataframe thead th {\n",
              "        text-align: right;\n",
              "    }\n",
              "</style>\n",
              "<table border=\"1\" class=\"dataframe\">\n",
              "  <thead>\n",
              "    <tr style=\"text-align: right;\">\n",
              "      <th></th>\n",
              "      <th>Hair</th>\n",
              "      <th>Feathers</th>\n",
              "      <th>Eggs</th>\n",
              "      <th>Milk</th>\n",
              "      <th>Airborn</th>\n",
              "      <th>Aquatic</th>\n",
              "      <th>Predator</th>\n",
              "      <th>Thootead</th>\n",
              "      <th>Backbone</th>\n",
              "      <th>Breathes</th>\n",
              "      <th>Venomous</th>\n",
              "      <th>Fins</th>\n",
              "      <th>Legs</th>\n",
              "      <th>Tail</th>\n",
              "      <th>Domestic</th>\n",
              "      <th>Catsize</th>\n",
              "      <th>Type</th>\n",
              "    </tr>\n",
              "  </thead>\n",
              "  <tbody>\n",
              "    <tr>\n",
              "      <th>aardvark</th>\n",
              "      <td>1</td>\n",
              "      <td>0</td>\n",
              "      <td>0</td>\n",
              "      <td>1</td>\n",
              "      <td>0</td>\n",
              "      <td>0</td>\n",
              "      <td>1</td>\n",
              "      <td>1</td>\n",
              "      <td>1</td>\n",
              "      <td>1</td>\n",
              "      <td>0</td>\n",
              "      <td>0</td>\n",
              "      <td>4</td>\n",
              "      <td>0</td>\n",
              "      <td>0</td>\n",
              "      <td>1</td>\n",
              "      <td>1</td>\n",
              "    </tr>\n",
              "    <tr>\n",
              "      <th>antelope</th>\n",
              "      <td>1</td>\n",
              "      <td>0</td>\n",
              "      <td>0</td>\n",
              "      <td>1</td>\n",
              "      <td>0</td>\n",
              "      <td>0</td>\n",
              "      <td>0</td>\n",
              "      <td>1</td>\n",
              "      <td>1</td>\n",
              "      <td>1</td>\n",
              "      <td>0</td>\n",
              "      <td>0</td>\n",
              "      <td>4</td>\n",
              "      <td>1</td>\n",
              "      <td>0</td>\n",
              "      <td>1</td>\n",
              "      <td>1</td>\n",
              "    </tr>\n",
              "    <tr>\n",
              "      <th>bass</th>\n",
              "      <td>0</td>\n",
              "      <td>0</td>\n",
              "      <td>1</td>\n",
              "      <td>0</td>\n",
              "      <td>0</td>\n",
              "      <td>1</td>\n",
              "      <td>1</td>\n",
              "      <td>1</td>\n",
              "      <td>1</td>\n",
              "      <td>0</td>\n",
              "      <td>0</td>\n",
              "      <td>1</td>\n",
              "      <td>0</td>\n",
              "      <td>1</td>\n",
              "      <td>0</td>\n",
              "      <td>0</td>\n",
              "      <td>4</td>\n",
              "    </tr>\n",
              "    <tr>\n",
              "      <th>bear</th>\n",
              "      <td>1</td>\n",
              "      <td>0</td>\n",
              "      <td>0</td>\n",
              "      <td>1</td>\n",
              "      <td>0</td>\n",
              "      <td>0</td>\n",
              "      <td>1</td>\n",
              "      <td>1</td>\n",
              "      <td>1</td>\n",
              "      <td>1</td>\n",
              "      <td>0</td>\n",
              "      <td>0</td>\n",
              "      <td>4</td>\n",
              "      <td>0</td>\n",
              "      <td>0</td>\n",
              "      <td>1</td>\n",
              "      <td>1</td>\n",
              "    </tr>\n",
              "    <tr>\n",
              "      <th>boar</th>\n",
              "      <td>1</td>\n",
              "      <td>0</td>\n",
              "      <td>0</td>\n",
              "      <td>1</td>\n",
              "      <td>0</td>\n",
              "      <td>0</td>\n",
              "      <td>1</td>\n",
              "      <td>1</td>\n",
              "      <td>1</td>\n",
              "      <td>1</td>\n",
              "      <td>0</td>\n",
              "      <td>0</td>\n",
              "      <td>4</td>\n",
              "      <td>1</td>\n",
              "      <td>0</td>\n",
              "      <td>1</td>\n",
              "      <td>1</td>\n",
              "    </tr>\n",
              "  </tbody>\n",
              "</table>\n",
              "</div>"
            ],
            "text/plain": [
              "          Hair  Feathers  Eggs  Milk  ...  Tail  Domestic  Catsize  Type\n",
              "aardvark     1         0     0     1  ...     0         0        1     1\n",
              "antelope     1         0     0     1  ...     1         0        1     1\n",
              "bass         0         0     1     0  ...     1         0        0     4\n",
              "bear         1         0     0     1  ...     0         0        1     1\n",
              "boar         1         0     0     1  ...     1         0        1     1\n",
              "\n",
              "[5 rows x 17 columns]"
            ]
          },
          "metadata": {},
          "execution_count": 31
        }
      ]
    },
    {
      "cell_type": "code",
      "metadata": {
        "id": "wO7HcgYt-h--",
        "colab": {
          "base_uri": "https://localhost:8080/"
        },
        "outputId": "ed5fa6e8-efa0-4709-f4ce-9c7f56e01972"
      },
      "source": [
        "zoo.info()"
      ],
      "execution_count": null,
      "outputs": [
        {
          "output_type": "stream",
          "name": "stdout",
          "text": [
            "<class 'pandas.core.frame.DataFrame'>\n",
            "Index: 101 entries, aardvark to wren\n",
            "Data columns (total 17 columns):\n",
            " #   Column    Non-Null Count  Dtype\n",
            "---  ------    --------------  -----\n",
            " 0   Hair      101 non-null    int64\n",
            " 1   Feathers  101 non-null    int64\n",
            " 2   Eggs      101 non-null    int64\n",
            " 3   Milk      101 non-null    int64\n",
            " 4   Airborn   101 non-null    int64\n",
            " 5   Aquatic   101 non-null    int64\n",
            " 6   Predator  101 non-null    int64\n",
            " 7   Thootead  101 non-null    int64\n",
            " 8   Backbone  101 non-null    int64\n",
            " 9   Breathes  101 non-null    int64\n",
            " 10  Venomous  101 non-null    int64\n",
            " 11  Fins      101 non-null    int64\n",
            " 12  Legs      101 non-null    int64\n",
            " 13  Tail      101 non-null    int64\n",
            " 14  Domestic  101 non-null    int64\n",
            " 15  Catsize   101 non-null    int64\n",
            " 16  Type      101 non-null    int64\n",
            "dtypes: int64(17)\n",
            "memory usage: 14.2+ KB\n"
          ]
        }
      ]
    },
    {
      "cell_type": "code",
      "metadata": {
        "colab": {
          "base_uri": "https://localhost:8080/",
          "height": 221
        },
        "id": "KOiVypaVITtK",
        "outputId": "89a3750a-1edf-47c9-a136-add0c5f2417d"
      },
      "source": [
        "from google.colab import drive\n",
        "drive.mount('/content/drive', force_remount=True)\n",
        "zoo1=pd.read_excel('/content/drive/MyDrive/Parcial2_Data_set.xlsx')\n",
        "zoo1.head()"
      ],
      "execution_count": null,
      "outputs": [
        {
          "output_type": "stream",
          "name": "stdout",
          "text": [
            "Mounted at /content/drive\n"
          ]
        },
        {
          "output_type": "execute_result",
          "data": {
            "text/html": [
              "<div>\n",
              "<style scoped>\n",
              "    .dataframe tbody tr th:only-of-type {\n",
              "        vertical-align: middle;\n",
              "    }\n",
              "\n",
              "    .dataframe tbody tr th {\n",
              "        vertical-align: top;\n",
              "    }\n",
              "\n",
              "    .dataframe thead th {\n",
              "        text-align: right;\n",
              "    }\n",
              "</style>\n",
              "<table border=\"1\" class=\"dataframe\">\n",
              "  <thead>\n",
              "    <tr style=\"text-align: right;\">\n",
              "      <th></th>\n",
              "      <th>Animal name</th>\n",
              "      <th>Hair</th>\n",
              "      <th>Feathers</th>\n",
              "      <th>eggs</th>\n",
              "      <th>milk</th>\n",
              "      <th>airborne</th>\n",
              "      <th>aquatic</th>\n",
              "      <th>predator</th>\n",
              "      <th>toothed</th>\n",
              "      <th>backbone</th>\n",
              "      <th>breathes</th>\n",
              "      <th>venomous</th>\n",
              "      <th>fins</th>\n",
              "      <th>legs</th>\n",
              "      <th>tail</th>\n",
              "      <th>domestic</th>\n",
              "      <th>catsize</th>\n",
              "      <th>type</th>\n",
              "    </tr>\n",
              "  </thead>\n",
              "  <tbody>\n",
              "    <tr>\n",
              "      <th>0</th>\n",
              "      <td>aardvark</td>\n",
              "      <td>1</td>\n",
              "      <td>0</td>\n",
              "      <td>0</td>\n",
              "      <td>1</td>\n",
              "      <td>0</td>\n",
              "      <td>0</td>\n",
              "      <td>1</td>\n",
              "      <td>1</td>\n",
              "      <td>1</td>\n",
              "      <td>1</td>\n",
              "      <td>0</td>\n",
              "      <td>0</td>\n",
              "      <td>4</td>\n",
              "      <td>0</td>\n",
              "      <td>0</td>\n",
              "      <td>1</td>\n",
              "      <td>1</td>\n",
              "    </tr>\n",
              "    <tr>\n",
              "      <th>1</th>\n",
              "      <td>antelope</td>\n",
              "      <td>1</td>\n",
              "      <td>0</td>\n",
              "      <td>0</td>\n",
              "      <td>1</td>\n",
              "      <td>0</td>\n",
              "      <td>0</td>\n",
              "      <td>0</td>\n",
              "      <td>1</td>\n",
              "      <td>1</td>\n",
              "      <td>1</td>\n",
              "      <td>0</td>\n",
              "      <td>0</td>\n",
              "      <td>4</td>\n",
              "      <td>1</td>\n",
              "      <td>0</td>\n",
              "      <td>1</td>\n",
              "      <td>1</td>\n",
              "    </tr>\n",
              "    <tr>\n",
              "      <th>2</th>\n",
              "      <td>bass</td>\n",
              "      <td>0</td>\n",
              "      <td>0</td>\n",
              "      <td>1</td>\n",
              "      <td>0</td>\n",
              "      <td>0</td>\n",
              "      <td>1</td>\n",
              "      <td>1</td>\n",
              "      <td>1</td>\n",
              "      <td>1</td>\n",
              "      <td>0</td>\n",
              "      <td>0</td>\n",
              "      <td>1</td>\n",
              "      <td>0</td>\n",
              "      <td>1</td>\n",
              "      <td>0</td>\n",
              "      <td>0</td>\n",
              "      <td>4</td>\n",
              "    </tr>\n",
              "    <tr>\n",
              "      <th>3</th>\n",
              "      <td>bear</td>\n",
              "      <td>1</td>\n",
              "      <td>0</td>\n",
              "      <td>0</td>\n",
              "      <td>1</td>\n",
              "      <td>0</td>\n",
              "      <td>0</td>\n",
              "      <td>1</td>\n",
              "      <td>1</td>\n",
              "      <td>1</td>\n",
              "      <td>1</td>\n",
              "      <td>0</td>\n",
              "      <td>0</td>\n",
              "      <td>4</td>\n",
              "      <td>0</td>\n",
              "      <td>0</td>\n",
              "      <td>1</td>\n",
              "      <td>1</td>\n",
              "    </tr>\n",
              "    <tr>\n",
              "      <th>4</th>\n",
              "      <td>boar</td>\n",
              "      <td>1</td>\n",
              "      <td>0</td>\n",
              "      <td>0</td>\n",
              "      <td>1</td>\n",
              "      <td>0</td>\n",
              "      <td>0</td>\n",
              "      <td>1</td>\n",
              "      <td>1</td>\n",
              "      <td>1</td>\n",
              "      <td>1</td>\n",
              "      <td>0</td>\n",
              "      <td>0</td>\n",
              "      <td>4</td>\n",
              "      <td>1</td>\n",
              "      <td>0</td>\n",
              "      <td>1</td>\n",
              "      <td>1</td>\n",
              "    </tr>\n",
              "  </tbody>\n",
              "</table>\n",
              "</div>"
            ],
            "text/plain": [
              "  Animal name  Hair  Feathers  eggs  milk  ...  legs  tail  domestic  catsize  type\n",
              "0    aardvark     1         0     0     1  ...     4     0         0        1     1\n",
              "1    antelope     1         0     0     1  ...     4     1         0        1     1\n",
              "2        bass     0         0     1     0  ...     0     1         0        0     4\n",
              "3        bear     1         0     0     1  ...     4     0         0        1     1\n",
              "4        boar     1         0     0     1  ...     4     1         0        1     1\n",
              "\n",
              "[5 rows x 18 columns]"
            ]
          },
          "metadata": {},
          "execution_count": 33
        }
      ]
    },
    {
      "cell_type": "code",
      "metadata": {
        "colab": {
          "base_uri": "https://localhost:8080/"
        },
        "id": "7CBWiE13YdEk",
        "outputId": "ed2a49a9-0cbc-48f8-abdb-098096855452"
      },
      "source": [
        "zoo1.info()"
      ],
      "execution_count": null,
      "outputs": [
        {
          "output_type": "stream",
          "name": "stdout",
          "text": [
            "<class 'pandas.core.frame.DataFrame'>\n",
            "RangeIndex: 101 entries, 0 to 100\n",
            "Data columns (total 18 columns):\n",
            " #   Column       Non-Null Count  Dtype \n",
            "---  ------       --------------  ----- \n",
            " 0   Animal name  101 non-null    object\n",
            " 1   Hair         101 non-null    int64 \n",
            " 2   Feathers     101 non-null    int64 \n",
            " 3   eggs         101 non-null    int64 \n",
            " 4   milk         101 non-null    int64 \n",
            " 5   airborne     101 non-null    int64 \n",
            " 6   aquatic      101 non-null    int64 \n",
            " 7   predator     101 non-null    int64 \n",
            " 8   toothed      101 non-null    int64 \n",
            " 9   backbone     101 non-null    int64 \n",
            " 10  breathes     101 non-null    int64 \n",
            " 11  venomous     101 non-null    int64 \n",
            " 12  fins         101 non-null    int64 \n",
            " 13  legs         101 non-null    int64 \n",
            " 14  tail         101 non-null    int64 \n",
            " 15  domestic     101 non-null    int64 \n",
            " 16  catsize      101 non-null    int64 \n",
            " 17  type         101 non-null    int64 \n",
            "dtypes: int64(17), object(1)\n",
            "memory usage: 14.3+ KB\n"
          ]
        }
      ]
    },
    {
      "cell_type": "markdown",
      "metadata": {
        "id": "u1f7lx-HDFsH"
      },
      "source": [
        "#Normalización de los datos"
      ]
    },
    {
      "cell_type": "markdown",
      "metadata": {
        "id": "HoagIYf9DJsy"
      },
      "source": [
        "Se definen las variables de entrada y salida según la posición de la columna en el dataset"
      ]
    },
    {
      "cell_type": "code",
      "metadata": {
        "id": "c78OyCXdC4ps",
        "colab": {
          "base_uri": "https://localhost:8080/"
        },
        "outputId": "2429012b-6c12-490b-9c25-0cce2a97fad4"
      },
      "source": [
        "dataset = zoo1.values\n",
        "\n",
        "X = dataset[:,1:16] # las variables desde la columna 1 hasta la 16 serán la entrada X, se omite la columna 0 que corresponde al nombre del animal porque es tipo string\n",
        "Y = dataset[:,17] # Y es la variable a estimar o salida, que corresponde a la clasificación del animal\n",
        "\n",
        "print(X)\n",
        "print(Y)"
      ],
      "execution_count": null,
      "outputs": [
        {
          "output_type": "stream",
          "name": "stdout",
          "text": [
            "[[1 0 0 ... 4 0 0]\n",
            " [1 0 0 ... 4 1 0]\n",
            " [0 0 1 ... 0 1 0]\n",
            " ...\n",
            " [1 0 0 ... 4 1 0]\n",
            " [0 0 1 ... 0 0 0]\n",
            " [0 1 1 ... 2 1 0]]\n",
            "[1 1 4 1 1 1 1 4 4 1 1 2 4 7 7 7 2 1 4 1 2 2 1 2 6 5 5 1 1 1 6 1 1 2 4 1 1\n",
            " 2 4 6 6 2 6 2 1 1 7 1 1 1 1 6 5 7 1 1 2 2 2 2 4 4 3 1 1 1 1 1 1 1 1 2 7 4\n",
            " 1 1 3 7 2 2 3 7 4 2 1 7 4 2 6 5 3 3 4 1 1 2 1 6 1 7 2]\n"
          ]
        }
      ]
    },
    {
      "cell_type": "code",
      "metadata": {
        "id": "70e_1Qm1Aghd",
        "colab": {
          "base_uri": "https://localhost:8080/"
        },
        "outputId": "91962121-8705-4f31-eb10-8d080d7ebda1"
      },
      "source": [
        " Xn=X\n",
        " Yn= Y\n",
        "\n",
        " scaler1 = MinMaxScaler()\n",
        " scaler1.fit(Xn)\n",
        " Xn=scaler1.transform(Xn)\n",
        "\n",
        " #scaler2 = MinMaxScaler() no se estandariza la salida para conservar la salida de clase en su valor original, es decir un numero entero entre 1 y 7\n",
        " #Yn = Yn.reshape(-1, 1)\n",
        " #scaler2.fit(Yn)\n",
        " #Yn=scaler2.transform(Yn)\n",
        "\n",
        "print(Xn)\n",
        "print(Yn)"
      ],
      "execution_count": null,
      "outputs": [
        {
          "output_type": "stream",
          "name": "stdout",
          "text": [
            "[[1.   0.   0.   ... 0.5  0.   0.  ]\n",
            " [1.   0.   0.   ... 0.5  1.   0.  ]\n",
            " [0.   0.   1.   ... 0.   1.   0.  ]\n",
            " ...\n",
            " [1.   0.   0.   ... 0.5  1.   0.  ]\n",
            " [0.   0.   1.   ... 0.   0.   0.  ]\n",
            " [0.   1.   1.   ... 0.25 1.   0.  ]]\n",
            "[1 1 4 1 1 1 1 4 4 1 1 2 4 7 7 7 2 1 4 1 2 2 1 2 6 5 5 1 1 1 6 1 1 2 4 1 1\n",
            " 2 4 6 6 2 6 2 1 1 7 1 1 1 1 6 5 7 1 1 2 2 2 2 4 4 3 1 1 1 1 1 1 1 1 2 7 4\n",
            " 1 1 3 7 2 2 3 7 4 2 1 7 4 2 6 5 3 3 4 1 1 2 1 6 1 7 2]\n"
          ]
        }
      ]
    },
    {
      "cell_type": "markdown",
      "metadata": {
        "id": "tG2to5TMFjiI"
      },
      "source": [
        "#Partición del data-set"
      ]
    },
    {
      "cell_type": "markdown",
      "metadata": {
        "id": "otC0irFQFxeh"
      },
      "source": [
        "Se hace una partición del dataset en dos partes, tomando el 70% de los datos para la creación del modelo y el otro 30% para la validación del mismo. Se escogieron estos porcentajes para dar prioridad a la creación del modelo de manera que cuente con una cantidad significativa de datos y haga estimaciones más fiables. Esto se hace con la función sklearn.model_selection.train_test_split de la libreria scikit-learn."
      ]
    },
    {
      "cell_type": "code",
      "metadata": {
        "id": "EtXW7Sr5FzO9"
      },
      "source": [
        "x_train, x_test, y_train, y_test = train_test_split(Xn,Yn,test_size=0.3)\n",
        "\n",
        "y_train=y_train.astype('int') #Se agrega esta linea para especificar que y_train es tipo int (entero) y scikit-learn lo pueda reconocer sin problema\n",
        "y_test=y_test.astype('int') #Se agrega esta linea para especificar que y_test es tipo int (entero) y scikit-learn lo pueda reconocer sin problema"
      ],
      "execution_count": null,
      "outputs": []
    },
    {
      "cell_type": "markdown",
      "metadata": {
        "id": "50SyvlDBF5ue"
      },
      "source": [
        "#Proceso de clasificación"
      ]
    },
    {
      "cell_type": "markdown",
      "metadata": {
        "id": "BlNLZYn9Fzh4"
      },
      "source": [
        "A continuación se muestran cuatro metodos de clasificación, algunos con variaciones de los mismos."
      ]
    },
    {
      "cell_type": "markdown",
      "metadata": {
        "id": "RlR_DolLF-77"
      },
      "source": [
        "##Método 1: Clasificadores lineales"
      ]
    },
    {
      "cell_type": "markdown",
      "metadata": {
        "id": "3Aeg1P1vCnA_"
      },
      "source": [
        "Clasificadores simples que generan una superficie de separación lineal."
      ]
    },
    {
      "cell_type": "markdown",
      "metadata": {
        "id": "B_-H6c5Q-gut"
      },
      "source": [
        "###Perceptrón"
      ]
    },
    {
      "cell_type": "code",
      "metadata": {
        "id": "lxAxwWR2GOrT",
        "colab": {
          "base_uri": "https://localhost:8080/"
        },
        "outputId": "a4fa6196-4758-4f51-e507-ede0427a1923"
      },
      "source": [
        "# Se crea un clasificador perceptron con parametros: 100 iteraciones (epochs) y una razon de aprendizaje (learning rate) de 0.1\n",
        "clf_per = Perceptron(max_iter=100, eta0=0.1, random_state=0)\n",
        "\n",
        "# Se entrena el perceptron\n",
        "clf_per.fit(x_train, y_train)"
      ],
      "execution_count": null,
      "outputs": [
        {
          "output_type": "execute_result",
          "data": {
            "text/plain": [
              "Perceptron(alpha=0.0001, class_weight=None, early_stopping=False, eta0=0.1,\n",
              "           fit_intercept=True, max_iter=100, n_iter_no_change=5, n_jobs=None,\n",
              "           penalty=None, random_state=0, shuffle=True, tol=0.001,\n",
              "           validation_fraction=0.1, verbose=0, warm_start=False)"
            ]
          },
          "metadata": {},
          "execution_count": 66
        }
      ]
    },
    {
      "cell_type": "code",
      "metadata": {
        "id": "UcOnEooBHzbJ"
      },
      "source": [
        "# Se aplica el perceptron entrenado con los datos de prueba (x_test) para hacer prediciones de la salida de prueba (y_test)\n",
        "y_pred_per = clf_per.predict(x_test)\n",
        "y_pred_per_t = clf_per.predict(x_train)"
      ],
      "execution_count": null,
      "outputs": []
    },
    {
      "cell_type": "code",
      "metadata": {
        "colab": {
          "base_uri": "https://localhost:8080/"
        },
        "id": "fDoy4aoInisq",
        "outputId": "24986dcf-1686-4a21-89ac-3b29948b7b86"
      },
      "source": [
        "#Se imprimen la predicion con perceptron y la salida real para observar sus similitudes y diferencias\n",
        "print(y_pred_per)\n",
        "print(y_test)"
      ],
      "execution_count": null,
      "outputs": [
        {
          "output_type": "stream",
          "name": "stdout",
          "text": [
            "[2 2 5 6 1 6 1 3 2 1 6 1 2 2 1 1 1 1 1 1 6 1 2 1 5 1 2 2 1 1 7]\n",
            "[2 2 5 6 1 6 5 3 2 1 6 1 2 3 1 1 1 1 1 1 6 1 2 7 5 1 2 2 1 1 7]\n"
          ]
        }
      ]
    },
    {
      "cell_type": "code",
      "metadata": {
        "id": "Zqay0upVIjle",
        "colab": {
          "base_uri": "https://localhost:8080/"
        },
        "outputId": "64015fc1-038d-49ef-b3ba-46b950773bb3"
      },
      "source": [
        "#Se imprimen el accuracy y la matriz de confusion para ver que tan buena es la clasificación\n",
        "per_accu = accuracy_score(y_test, y_pred_per)\n",
        "print(\"Test Accuracy\", per_accu)\n",
        "\n",
        "per_accu_t =accuracy_score(y_train, y_pred_per_t)\n",
        "print(\"\\nTrain Accuracy\", per_accu_t)\n"
      ],
      "execution_count": null,
      "outputs": [
        {
          "output_type": "stream",
          "name": "stdout",
          "text": [
            "Test Accuracy 0.9032258064516129\n",
            "\n",
            "Train Accuracy 1.0\n"
          ]
        }
      ]
    },
    {
      "cell_type": "code",
      "metadata": {
        "colab": {
          "base_uri": "https://localhost:8080/"
        },
        "id": "NZ8UtqtOo57r",
        "outputId": "3d46d272-66dd-4a94-a904-f587842f2d5f"
      },
      "source": [
        "Per_Matriz = confusion_matrix(y_test, y_pred_per)\n",
        "print(Per_Matriz)"
      ],
      "execution_count": null,
      "outputs": [
        {
          "output_type": "stream",
          "name": "stdout",
          "text": [
            "[[13  0  0  0  0  0]\n",
            " [ 0  7  0  0  0  0]\n",
            " [ 0  1  1  0  0  0]\n",
            " [ 1  0  0  2  0  0]\n",
            " [ 0  0  0  0  4  0]\n",
            " [ 1  0  0  0  0  1]]\n"
          ]
        }
      ]
    },
    {
      "cell_type": "markdown",
      "metadata": {
        "id": "NkD7uAPoji2Z"
      },
      "source": [
        "###Regresión Logistica"
      ]
    },
    {
      "cell_type": "code",
      "metadata": {
        "id": "BP3IPTDNjlxO",
        "colab": {
          "base_uri": "https://localhost:8080/"
        },
        "outputId": "1ae0b5a3-d489-467a-cd67-ef381d446122"
      },
      "source": [
        "# Se crea el clasificador\n",
        "clf_log = LogisticRegression(max_iter=100, random_state=0, solver='newton-cg')\n",
        "\n",
        "# Se entrena el clasificador\n",
        "clf_log.fit(x_train, y_train)"
      ],
      "execution_count": null,
      "outputs": [
        {
          "output_type": "execute_result",
          "data": {
            "text/plain": [
              "LogisticRegression(C=1.0, class_weight=None, dual=False, fit_intercept=True,\n",
              "                   intercept_scaling=1, l1_ratio=None, max_iter=100,\n",
              "                   multi_class='auto', n_jobs=None, penalty='l2',\n",
              "                   random_state=0, solver='newton-cg', tol=0.0001, verbose=0,\n",
              "                   warm_start=False)"
            ]
          },
          "metadata": {},
          "execution_count": 86
        }
      ]
    },
    {
      "cell_type": "code",
      "metadata": {
        "id": "nO5kNttM86Vv",
        "colab": {
          "base_uri": "https://localhost:8080/"
        },
        "outputId": "6971ac57-6d07-4770-f178-8e3c3f5f9aca"
      },
      "source": [
        "# Se aplica el clasificador entrenado con x_test para hacer prediccion de y_test\n",
        "y_pred_log = clf_log.predict(x_test)\n",
        "print(y_pred_log)\n",
        "print(y_test)"
      ],
      "execution_count": null,
      "outputs": [
        {
          "output_type": "stream",
          "name": "stdout",
          "text": [
            "[2 2 3 6 1 7 4 3 2 1 6 1 2 2 1 1 1 1 1 1 6 1 2 3 4 1 2 2 1 1 7]\n",
            "[2 2 5 6 1 6 5 3 2 1 6 1 2 3 1 1 1 1 1 1 6 1 2 7 5 1 2 2 1 1 7]\n"
          ]
        }
      ]
    },
    {
      "cell_type": "code",
      "metadata": {
        "id": "Mzrn_mdc8Cas",
        "colab": {
          "base_uri": "https://localhost:8080/"
        },
        "outputId": "ffb3c8ac-04ad-4d9c-e235-0def30575e0c"
      },
      "source": [
        "log_accu = accuracy_score(y_test, y_pred_log)\n",
        "print(log_accu)\n",
        "\n",
        "log_matriz = confusion_matrix(y_test, y_pred_log)\n",
        "print(log_matriz)"
      ],
      "execution_count": null,
      "outputs": [
        {
          "output_type": "stream",
          "name": "stdout",
          "text": [
            "0.8064516129032258\n",
            "[[13  0  0  0  0  0  0]\n",
            " [ 0  7  0  0  0  0  0]\n",
            " [ 0  1  1  0  0  0  0]\n",
            " [ 0  0  0  0  0  0  0]\n",
            " [ 0  0  1  2  0  0  0]\n",
            " [ 0  0  0  0  0  3  1]\n",
            " [ 0  0  1  0  0  0  1]]\n"
          ]
        }
      ]
    },
    {
      "cell_type": "markdown",
      "metadata": {
        "id": "MlW-l9i7GCEA"
      },
      "source": [
        "##Método 2: Clasificación SVM (Clásico)"
      ]
    },
    {
      "cell_type": "markdown",
      "metadata": {
        "id": "zzqCbFmvDeFm"
      },
      "source": [
        "Con este metodo de clasificación se halla la superficie de separación óptima calculando la distancia entre datos. Sin modificaciones como el kernel, genera una superficie de separación lineal"
      ]
    },
    {
      "cell_type": "code",
      "metadata": {
        "id": "Y2vC70NVGLoA",
        "colab": {
          "base_uri": "https://localhost:8080/"
        },
        "outputId": "7820011b-3717-4228-b8e2-618abab220d0"
      },
      "source": [
        "# Se crea el clasificador SVM\n",
        "clf_svm = Pipeline([(\"scaler\", StandardScaler()),\n",
        "                    (\"linear_svc\", LinearSVC(C=100, loss=\"hinge\", random_state=42)),\n",
        "                    ])\n",
        "\n",
        "#Se entrena el SVM\n",
        "clf_svm.fit(x_train, y_train)"
      ],
      "execution_count": null,
      "outputs": [
        {
          "output_type": "execute_result",
          "data": {
            "text/plain": [
              "Pipeline(memory=None,\n",
              "         steps=[('scaler',\n",
              "                 StandardScaler(copy=True, with_mean=True, with_std=True)),\n",
              "                ('linear_svc',\n",
              "                 LinearSVC(C=100, class_weight=None, dual=True,\n",
              "                           fit_intercept=True, intercept_scaling=1,\n",
              "                           loss='hinge', max_iter=1000, multi_class='ovr',\n",
              "                           penalty='l2', random_state=42, tol=0.0001,\n",
              "                           verbose=0))],\n",
              "         verbose=False)"
            ]
          },
          "metadata": {},
          "execution_count": 44
        }
      ]
    },
    {
      "cell_type": "code",
      "metadata": {
        "id": "veLOux4d9VTy",
        "colab": {
          "base_uri": "https://localhost:8080/"
        },
        "outputId": "16d5400f-c7ee-4566-af83-ba3bd725007c"
      },
      "source": [
        "# Se aplica el SVM entrenado con x_test para hacer prediccion de y_test\n",
        "y_pred_svm = clf_svm.predict(x_test)\n",
        "print(y_pred_svm)\n",
        "print(y_test)"
      ],
      "execution_count": null,
      "outputs": [
        {
          "output_type": "stream",
          "name": "stdout",
          "text": [
            "[2 2 5 6 1 6 5 3 2 1 6 1 2 6 1 1 1 1 1 1 6 1 2 6 5 1 2 2 1 1 7]\n",
            "[2 2 5 6 1 6 5 3 2 1 6 1 2 3 1 1 1 1 1 1 6 1 2 7 5 1 2 2 1 1 7]\n"
          ]
        }
      ]
    },
    {
      "cell_type": "code",
      "metadata": {
        "id": "XepGKjOR9aiN",
        "colab": {
          "base_uri": "https://localhost:8080/"
        },
        "outputId": "6b933ff5-1f28-49fa-a5fe-10ddf275c5ee"
      },
      "source": [
        "svm_accu = accuracy_score(y_test, y_pred_svm)\n",
        "print(svm_accu)\n",
        "\n",
        "svm_matriz = confusion_matrix(y_test, y_pred_svm)\n",
        "print(svm_matriz)"
      ],
      "execution_count": null,
      "outputs": [
        {
          "output_type": "stream",
          "name": "stdout",
          "text": [
            "0.9354838709677419\n",
            "[[13  0  0  0  0  0]\n",
            " [ 0  7  0  0  0  0]\n",
            " [ 0  0  1  0  1  0]\n",
            " [ 0  0  0  3  0  0]\n",
            " [ 0  0  0  0  4  0]\n",
            " [ 0  0  0  0  1  1]]\n"
          ]
        }
      ]
    },
    {
      "cell_type": "markdown",
      "metadata": {
        "id": "MKo_4p2xGEDT"
      },
      "source": [
        "##Método 3: Clasificadores No lineales (SVM con kernel)"
      ]
    },
    {
      "cell_type": "markdown",
      "metadata": {
        "id": "GUdyrJTek28T"
      },
      "source": [
        "###Clasificación polinomial"
      ]
    },
    {
      "cell_type": "markdown",
      "metadata": {
        "id": "O85osfTzAoUt"
      },
      "source": [
        " Se utiliza el kernel para generar una superficie de clasificación más elaborada"
      ]
    },
    {
      "cell_type": "code",
      "metadata": {
        "id": "HaJ7BWRnGTbv",
        "colab": {
          "base_uri": "https://localhost:8080/"
        },
        "outputId": "6a62b7fd-8e81-42b3-f3fe-56d7ff415d1c"
      },
      "source": [
        "# Se crea el clasificador polinomial SVM\n",
        "clf_polynomial_svm = Pipeline([\n",
        "        (\"poly_features\", PolynomialFeatures(degree=3)), #polinomio cúbico\n",
        "        (\"scaler\", StandardScaler()),\n",
        "        (\"svm_clf\", LinearSVC(C=10, loss=\"hinge\", random_state=42))\n",
        "    ])\n",
        "\n",
        "#Se entrena el clasificador\n",
        "clf_polynomial_svm.fit(x_train, y_train)"
      ],
      "execution_count": null,
      "outputs": [
        {
          "output_type": "stream",
          "name": "stderr",
          "text": [
            "/usr/local/lib/python3.7/dist-packages/sklearn/svm/_base.py:947: ConvergenceWarning: Liblinear failed to converge, increase the number of iterations.\n",
            "  \"the number of iterations.\", ConvergenceWarning)\n"
          ]
        },
        {
          "output_type": "execute_result",
          "data": {
            "text/plain": [
              "Pipeline(memory=None,\n",
              "         steps=[('poly_features',\n",
              "                 PolynomialFeatures(degree=3, include_bias=True,\n",
              "                                    interaction_only=False, order='C')),\n",
              "                ('scaler',\n",
              "                 StandardScaler(copy=True, with_mean=True, with_std=True)),\n",
              "                ('svm_clf',\n",
              "                 LinearSVC(C=10, class_weight=None, dual=True,\n",
              "                           fit_intercept=True, intercept_scaling=1,\n",
              "                           loss='hinge', max_iter=1000, multi_class='ovr',\n",
              "                           penalty='l2', random_state=42, tol=0.0001,\n",
              "                           verbose=0))],\n",
              "         verbose=False)"
            ]
          },
          "metadata": {},
          "execution_count": 47
        }
      ]
    },
    {
      "cell_type": "code",
      "metadata": {
        "id": "AR98WljC_Fr1",
        "colab": {
          "base_uri": "https://localhost:8080/"
        },
        "outputId": "69093988-0c0e-4b2d-d865-6f8ded6df014"
      },
      "source": [
        "# Se aplica el clasificador entrenado con x_test para hacer prediccion de y_test\n",
        "y_pred_svm_poly = clf_polynomial_svm.predict(x_test)\n",
        "print(y_pred_svm_poly)\n",
        "print(y_test)"
      ],
      "execution_count": null,
      "outputs": [
        {
          "output_type": "stream",
          "name": "stdout",
          "text": [
            "[2 2 3 6 1 6 5 3 2 1 6 1 2 2 1 1 1 1 1 1 6 1 2 3 5 1 2 2 1 1 7]\n",
            "[2 2 5 6 1 6 5 3 2 1 6 1 2 3 1 1 1 1 1 1 6 1 2 7 5 1 2 2 1 1 7]\n"
          ]
        }
      ]
    },
    {
      "cell_type": "code",
      "metadata": {
        "id": "Zu8JgoDk_ICj",
        "colab": {
          "base_uri": "https://localhost:8080/"
        },
        "outputId": "98278890-726c-4186-d9a4-3abbb465543a"
      },
      "source": [
        "svm_poly_accu =accuracy_score(y_test, y_pred_svm_poly)\n",
        "print(svm_poly_accu)\n",
        "\n",
        "svm_poly_matriz = confusion_matrix(y_test, y_pred_svm_poly)\n",
        "print(svm_poly_matriz)"
      ],
      "execution_count": null,
      "outputs": [
        {
          "output_type": "stream",
          "name": "stdout",
          "text": [
            "0.9032258064516129\n",
            "[[13  0  0  0  0  0]\n",
            " [ 0  7  0  0  0  0]\n",
            " [ 0  1  1  0  0  0]\n",
            " [ 0  0  1  2  0  0]\n",
            " [ 0  0  0  0  4  0]\n",
            " [ 0  0  1  0  0  1]]\n"
          ]
        }
      ]
    },
    {
      "cell_type": "markdown",
      "metadata": {
        "id": "pBL9qC7elLiW"
      },
      "source": [
        "###Clasificación Gaussiana"
      ]
    },
    {
      "cell_type": "code",
      "metadata": {
        "id": "fvJI5tdElQ2F",
        "colab": {
          "base_uri": "https://localhost:8080/"
        },
        "outputId": "8c54b416-26d7-44f5-fc1f-17b57da2b488"
      },
      "source": [
        "# Se crea el clasificador gausiano de SVM (rbf)\n",
        "clf_rbf_svm = Pipeline([\n",
        "        (\"scaler\", StandardScaler()),\n",
        "        (\"svm_clf\", SVC(kernel=\"rbf\", gamma=0.1, C=0.8)) #se modificaron los valores para gamma y C para mejorar el accuracy del modelo.\n",
        "    ])\n",
        "\n",
        "#Se entrena el clasificador\n",
        "clf_rbf_svm.fit(x_train, y_train)"
      ],
      "execution_count": null,
      "outputs": [
        {
          "output_type": "execute_result",
          "data": {
            "text/plain": [
              "Pipeline(memory=None,\n",
              "         steps=[('scaler',\n",
              "                 StandardScaler(copy=True, with_mean=True, with_std=True)),\n",
              "                ('svm_clf',\n",
              "                 SVC(C=0.8, break_ties=False, cache_size=200, class_weight=None,\n",
              "                     coef0=0.0, decision_function_shape='ovr', degree=3,\n",
              "                     gamma=0.1, kernel='rbf', max_iter=-1, probability=False,\n",
              "                     random_state=None, shrinking=True, tol=0.001,\n",
              "                     verbose=False))],\n",
              "         verbose=False)"
            ]
          },
          "metadata": {},
          "execution_count": 50
        }
      ]
    },
    {
      "cell_type": "code",
      "metadata": {
        "id": "dPDDnFLcBysF",
        "colab": {
          "base_uri": "https://localhost:8080/"
        },
        "outputId": "7d5997a5-b39c-447d-b732-811586c1191f"
      },
      "source": [
        "# Se aplica el clasificador entrenado con x_test para hacer prediccion de y_test\n",
        "y_pred_svm_rbf = clf_rbf_svm.predict(x_test)\n",
        "print(y_pred_svm_rbf)\n",
        "print(y_test)"
      ],
      "execution_count": null,
      "outputs": [
        {
          "output_type": "stream",
          "name": "stdout",
          "text": [
            "[2 2 1 6 1 6 1 1 2 1 1 1 2 1 1 1 1 1 1 1 1 1 2 1 1 1 2 2 1 1 7]\n",
            "[2 2 5 6 1 6 5 3 2 1 6 1 2 3 1 1 1 1 1 1 6 1 2 7 5 1 2 2 1 1 7]\n"
          ]
        }
      ]
    },
    {
      "cell_type": "code",
      "metadata": {
        "id": "m1ZMsiZqB05a",
        "colab": {
          "base_uri": "https://localhost:8080/"
        },
        "outputId": "d11c3c24-4c05-4523-d2ea-74d1496e1837"
      },
      "source": [
        "svm_rbf_accu =accuracy_score(y_test, y_pred_svm_rbf)\n",
        "print(svm_rbf_accu)\n",
        "\n",
        "svm_rbf_matriz = confusion_matrix(y_test, y_pred_svm_rbf)\n",
        "print(svm_rbf_matriz)"
      ],
      "execution_count": null,
      "outputs": [
        {
          "output_type": "stream",
          "name": "stdout",
          "text": [
            "0.7419354838709677\n",
            "[[13  0  0  0  0  0]\n",
            " [ 0  7  0  0  0  0]\n",
            " [ 2  0  0  0  0  0]\n",
            " [ 3  0  0  0  0  0]\n",
            " [ 2  0  0  0  2  0]\n",
            " [ 1  0  0  0  0  1]]\n"
          ]
        }
      ]
    },
    {
      "cell_type": "markdown",
      "metadata": {
        "id": "Cnm0Rj9JGY5v"
      },
      "source": [
        "##Método 4 (Nuevo): Árboles de decisión"
      ]
    },
    {
      "cell_type": "markdown",
      "metadata": {
        "id": "WIXAVgPRGb1s"
      },
      "source": [
        "Los árboles de decisión (DT) son un método de aprendizaje supervisado utilizado para la clasificación y la regresión. El objetivo es crear un modelo que prediga el valor de una variable objetivo (salida) mediante el aprendizaje de reglas de decisión simples inferidas de las características de los datos.\n",
        "\n",
        "*DecisionTreeClassifier* es capaz de realizar clasificaciones de varias clases en un conjunto de datos. Al igual que con otros clasificadores, *DecisionTreeClassifier* toma como entrada dos matrices: una matriz X que contiene los datos de entrenamiento, y una matriz Y de valores enteros, que contiene las etiquetas de clase para las muestras de entrenamiento: [n_samples, n_features] [n_samples]"
      ]
    },
    {
      "cell_type": "code",
      "metadata": {
        "id": "4dQIKmNIGZ74"
      },
      "source": [
        "from sklearn import tree\n",
        "\n",
        "# Se crea el clasificador decision tree\n",
        "clf_tree = tree.DecisionTreeClassifier() #Se utilizaron los parametros por defecto del clasificador\n",
        "\n",
        "#Se entrena el clasificador\n",
        "clf_tree = clf_tree.fit(x_train, y_train)"
      ],
      "execution_count": null,
      "outputs": []
    },
    {
      "cell_type": "code",
      "metadata": {
        "id": "ARHCpY53F858",
        "colab": {
          "base_uri": "https://localhost:8080/"
        },
        "outputId": "009ce76c-9366-459c-8f52-1c2312d58dc3"
      },
      "source": [
        "# Se aplica el clasificador entrenado con x_test para hacer prediccion de y_test\n",
        "y_pred_tree = clf_tree.predict(x_test)\n",
        "print(y_pred_tree)\n",
        "print(y_test)"
      ],
      "execution_count": null,
      "outputs": [
        {
          "output_type": "stream",
          "name": "stdout",
          "text": [
            "[2 2 5 6 1 6 3 3 2 1 6 1 2 3 1 1 1 1 1 1 6 1 2 3 5 1 2 2 1 1 7]\n",
            "[2 2 5 6 1 6 5 3 2 1 6 1 2 3 1 1 1 1 1 1 6 1 2 7 5 1 2 2 1 1 7]\n"
          ]
        }
      ]
    },
    {
      "cell_type": "code",
      "metadata": {
        "id": "ro9tSWSGGvVb",
        "colab": {
          "base_uri": "https://localhost:8080/"
        },
        "outputId": "ed3318dc-3c54-4be0-d44f-55d5b738f9b2"
      },
      "source": [
        "tree_accu= accuracy_score(y_test, y_pred_tree)\n",
        "print(tree_accu)\n",
        "\n",
        "tree_matriz = confusion_matrix(y_test, y_pred_tree)\n",
        "print(tree_matriz)"
      ],
      "execution_count": null,
      "outputs": [
        {
          "output_type": "stream",
          "name": "stdout",
          "text": [
            "0.9354838709677419\n",
            "[[13  0  0  0  0  0]\n",
            " [ 0  7  0  0  0  0]\n",
            " [ 0  0  2  0  0  0]\n",
            " [ 0  0  1  2  0  0]\n",
            " [ 0  0  0  0  4  0]\n",
            " [ 0  0  1  0  0  1]]\n"
          ]
        }
      ]
    },
    {
      "cell_type": "markdown",
      "metadata": {
        "id": "Ij7vPo7Zfv5F"
      },
      "source": [
        "Una vez entrenado, puede trazar el árbol con la función plot_tree. Alternativamente, el árbol también se puede exportar en formato de texto con la función export_text"
      ]
    },
    {
      "cell_type": "code",
      "metadata": {
        "id": "1nLZNLumGLtt",
        "colab": {
          "base_uri": "https://localhost:8080/",
          "height": 744
        },
        "outputId": "6ccb259b-401b-4a5c-b7a6-8d413c41cfcd"
      },
      "source": [
        "tree.plot_tree(clf_tree)\n",
        "\n",
        "from sklearn.tree.export import export_text\n",
        "r = export_text(clf_tree, feature_names=['hair', 'feathers',\t'eggs',\t'milk',\t'airbone',\t'aquatic',\t'predator',\t'toothead',\t'backbone',\t'breathes',\t'venomous',\t'fins',\t'legs',\t'tail',\t'domestic'])\n",
        "print(r)"
      ],
      "execution_count": null,
      "outputs": [
        {
          "output_type": "stream",
          "name": "stdout",
          "text": [
            "|--- milk <= 0.50\n",
            "|   |--- fins <= 0.50\n",
            "|   |   |--- feathers <= 0.50\n",
            "|   |   |   |--- tail <= 0.50\n",
            "|   |   |   |   |--- airbone <= 0.50\n",
            "|   |   |   |   |   |--- toothead <= 0.50\n",
            "|   |   |   |   |   |   |--- aquatic <= 0.50\n",
            "|   |   |   |   |   |   |   |--- legs <= 0.38\n",
            "|   |   |   |   |   |   |   |   |--- class: 7\n",
            "|   |   |   |   |   |   |   |--- legs >  0.38\n",
            "|   |   |   |   |   |   |   |   |--- class: 6\n",
            "|   |   |   |   |   |   |--- aquatic >  0.50\n",
            "|   |   |   |   |   |   |   |--- class: 7\n",
            "|   |   |   |   |   |--- toothead >  0.50\n",
            "|   |   |   |   |   |   |--- class: 5\n",
            "|   |   |   |   |--- airbone >  0.50\n",
            "|   |   |   |   |   |--- class: 6\n",
            "|   |   |   |--- tail >  0.50\n",
            "|   |   |   |   |--- class: 3\n",
            "|   |   |--- feathers >  0.50\n",
            "|   |   |   |--- class: 2\n",
            "|   |--- fins >  0.50\n",
            "|   |   |--- class: 4\n",
            "|--- milk >  0.50\n",
            "|   |--- class: 1\n",
            "\n"
          ]
        },
        {
          "output_type": "stream",
          "name": "stderr",
          "text": [
            "/usr/local/lib/python3.7/dist-packages/sklearn/utils/deprecation.py:144: FutureWarning: The sklearn.tree.export module is  deprecated in version 0.22 and will be removed in version 0.24. The corresponding classes / functions should instead be imported from sklearn.tree. Anything that cannot be imported from sklearn.tree is now part of the private API.\n",
            "  warnings.warn(message, FutureWarning)\n"
          ]
        },
        {
          "output_type": "display_data",
          "data": {
            "image/png": "[encoded data removed]",
            "text/plain": [
              "<Figure size 432x288 with 1 Axes>"
            ]
          },
          "metadata": {
            "needs_background": "light"
          }
        }
      ]
    },
    {
      "cell_type": "markdown",
      "metadata": {
        "id": "XOGPXGL0k5TB"
      },
      "source": [
        "Algunas ventajas de los árboles de decisión son:\n",
        "* Simple de entender e interpretar\n",
        "* Requiere poca preparación de datos.\n",
        "* El costo de usar el árbol (es decir, predecir datos) es logarítmico en la cantidad de puntos de datos utilizados para entrenar el árbol.\n",
        "* Capaz de manejar datos numéricos y categóricos.\n",
        "* Capaz de manejar problemas de múltiples salidas.\n",
        "* Utiliza un modelo de caja blanca\n",
        "* Posible validar un modelo utilizando pruebas estadísticas.\n",
        "\n",
        "Y las desventajas de los árboles de decisión son:\n",
        "\n",
        "* Se pueden crear árboles demasiado complejos que no generalizan bien los datos (sobreajuste)\n",
        "* Pueden ser inestables, porque pequeñas variaciones en los datos pueden generar un árbol completamente diferente.\n",
        "* Hay conceptos que son difíciles de aprender porque los árboles de decisión no los expresan fácilmente, como XOR, problemas de paridad o multiplexor.\n",
        "* Se pueden crean árboles sesgados si algunas clases dominan."
      ]
    },
    {
      "cell_type": "markdown",
      "metadata": {
        "id": "FB8Dgx0eGlTh"
      },
      "source": [
        "#Comparación entre modelos"
      ]
    },
    {
      "cell_type": "markdown",
      "metadata": {
        "id": "dY6WSi9rGgaD"
      },
      "source": [
        "Se hace la comparación de la eficacia entre los modelos usados anteriormente a través de la evaluación por metricas como la matriz de confusión, la sensibilidad, la precisión entre otras."
      ]
    },
    {
      "cell_type": "markdown",
      "metadata": {
        "id": "iwpzqbKBGrBh"
      },
      "source": [
        "##Matriz de Confusión"
      ]
    },
    {
      "cell_type": "markdown",
      "metadata": {
        "id": "2uhazgyb5zD0"
      },
      "source": [
        "Esta metrica de evaluación sirve para comparar el numero de veces que el clasificador acierta en comparación con las que falla y el numero total de clasificaciones realizadas.\n",
        "A partir de esta se obtiene la exactitud de la clasificación (accuracy)"
      ]
    },
    {
      "cell_type": "code",
      "metadata": {
        "id": "0vowYBJoGtqP"
      },
      "source": [
        "data={'Percetron':[per_accu, Per_Matriz],\n",
        "      'Regresión logística':[log_accu, log_matriz],\n",
        "      'SVM': [svm_accu, svm_matriz],\n",
        "      'Polinomial': [svm_poly_accu, svm_poly_matriz],\n",
        "      'Gausiana GMM': [svm_rbf_accu, svm_rbf_matriz],\n",
        "      'Arboles Decisión': [tree_accu, tree_matriz]\n",
        "      }"
      ],
      "execution_count": null,
      "outputs": []
    },
    {
      "cell_type": "markdown",
      "metadata": {
        "id": "G7HMJxHpTQpf"
      },
      "source": [
        "A continuación se presenta una tabla que muestra las metricas matriz de confusión y accuracy para los modelos presentados anteriormente"
      ]
    },
    {
      "cell_type": "code",
      "metadata": {
        "id": "gqVjszoso90Y",
        "colab": {
          "base_uri": "https://localhost:8080/",
          "height": 111
        },
        "outputId": "3a97a248-a29f-4ff5-c239-c367b4191ac6"
      },
      "source": [
        "comparacion=pd.DataFrame(data, index=['Accuracy', ' Matriz confusión'])\n",
        "comparacion"
      ],
      "execution_count": null,
      "outputs": [
        {
          "output_type": "execute_result",
          "data": {
            "text/html": [
              "<div>\n",
              "<style scoped>\n",
              "    .dataframe tbody tr th:only-of-type {\n",
              "        vertical-align: middle;\n",
              "    }\n",
              "\n",
              "    .dataframe tbody tr th {\n",
              "        vertical-align: top;\n",
              "    }\n",
              "\n",
              "    .dataframe thead th {\n",
              "        text-align: right;\n",
              "    }\n",
              "</style>\n",
              "<table border=\"1\" class=\"dataframe\">\n",
              "  <thead>\n",
              "    <tr style=\"text-align: right;\">\n",
              "      <th></th>\n",
              "      <th>Percetron</th>\n",
              "      <th>Regresión logística</th>\n",
              "      <th>SVM</th>\n",
              "      <th>Polinomial</th>\n",
              "      <th>Gausiana GMM</th>\n",
              "      <th>Arboles Decisión</th>\n",
              "    </tr>\n",
              "  </thead>\n",
              "  <tbody>\n",
              "    <tr>\n",
              "      <th>Accuracy</th>\n",
              "      <td>0.903226</td>\n",
              "      <td>0.806452</td>\n",
              "      <td>0.935484</td>\n",
              "      <td>0.903226</td>\n",
              "      <td>0.741935</td>\n",
              "      <td>0.935484</td>\n",
              "    </tr>\n",
              "    <tr>\n",
              "      <th>Matriz confusión</th>\n",
              "      <td>[[13, 0, 0, 0, 0, 0], [0, 7, 0, 0, 0, 0], [0, ...</td>\n",
              "      <td>[[13, 0, 0, 0, 0, 0, 0], [0, 7, 0, 0, 0, 0, 0]...</td>\n",
              "      <td>[[13, 0, 0, 0, 0, 0], [0, 7, 0, 0, 0, 0], [0, ...</td>\n",
              "      <td>[[13, 0, 0, 0, 0, 0], [0, 7, 0, 0, 0, 0], [0, ...</td>\n",
              "      <td>[[13, 0, 0, 0, 0, 0], [0, 7, 0, 0, 0, 0], [2, ...</td>\n",
              "      <td>[[13, 0, 0, 0, 0, 0], [0, 7, 0, 0, 0, 0], [0, ...</td>\n",
              "    </tr>\n",
              "  </tbody>\n",
              "</table>\n",
              "</div>"
            ],
            "text/plain": [
              "                                                           Percetron  ...                                   Arboles Decisión\n",
              "Accuracy                                                    0.903226  ...                                           0.935484\n",
              " Matriz confusión  [[13, 0, 0, 0, 0, 0], [0, 7, 0, 0, 0, 0], [0, ...  ...  [[13, 0, 0, 0, 0, 0], [0, 7, 0, 0, 0, 0], [0, ...\n",
              "\n",
              "[2 rows x 6 columns]"
            ]
          },
          "metadata": {},
          "execution_count": 58
        }
      ]
    },
    {
      "cell_type": "markdown",
      "metadata": {
        "id": "vIF44nBxT_jn"
      },
      "source": [
        "A modo de conclusión, los metodos de percetron, SVM y árboles de decisión son los que tienen una mayor precisión al momento de hacer las clasificaciones para este dataset y el comportamiento particular de los datos"
      ]
    },
    {
      "cell_type": "code",
      "metadata": {
        "id": "VYRP0_aN1COR",
        "colab": {
          "base_uri": "https://localhost:8080/",
          "height": 354
        },
        "outputId": "b6144fc0-d0f7-48ca-82aa-5b7bf5088acb"
      },
      "source": [
        "import seaborn as sns\n",
        "plt.plot([1, 2, 3])\n",
        "plt.subplot(321)\n",
        "hearmap_svm = sns.heatmap(pd.DataFrame(svm_matriz), annot=True, fmt=\"d\")\n",
        "\n",
        "plt.subplot(322)\n",
        "\n",
        "\n",
        "print (hearmap_svm_poly)\n",
        "\n",
        "plt.subplot(323)\n",
        "hearmap_tree = sns.heatmap(pd.DataFrame(tree_matriz), annot=True, fmt=\"d\")\n",
        "print (hearmap_tree)\n",
        "\n",
        "plt.subplot(324)\n",
        "hearmap_svm_gaus = sns.heatmap(pd.DataFrame(svm_rbf_matriz), annot=True, fmt=\"d\")\n",
        "print (hearmap_svm_gaus)\n",
        "\n",
        "plt.subplot(325)\n",
        "hearmap_per = sns.heatmap(pd.DataFrame(Per_Matriz), annot=True, fmt=\"d\")\n",
        "print (hearmap_per)\n",
        "\n",
        "plt.subplot(326)\n",
        "hearmap_log_matriz = sns.heatmap(pd.DataFrame(log_matriz), annot=True, fmt=\"d\")\n",
        "print (hearmap_log_matriz)"
      ],
      "execution_count": null,
      "outputs": [
        {
          "output_type": "stream",
          "name": "stdout",
          "text": [
            "AxesSubplot(0.125,0.657941;0.281818x0.222059)\n",
            "AxesSubplot(0.125,0.391471;0.281818x0.222059)\n",
            "AxesSubplot(0.547727,0.391471;0.281818x0.222059)\n",
            "AxesSubplot(0.125,0.125;0.281818x0.222059)\n",
            "AxesSubplot(0.547727,0.125;0.281818x0.222059)\n"
          ]
        },
        {
          "output_type": "display_data",
          "data": {
            "image/png": "[encoded data removed]",
            "text/plain": [
              "<Figure size 432x288 with 11 Axes>"
            ]
          },
          "metadata": {
            "needs_background": "light"
          }
        }
      ]
    },
    {
      "cell_type": "markdown",
      "metadata": {
        "id": "RECbANzNGuKM"
      },
      "source": [
        "##Otras metricas de evaluación"
      ]
    },
    {
      "cell_type": "markdown",
      "metadata": {
        "id": "Vf4M8r87UZIr"
      },
      "source": [
        "Finalmente, se muestran otros indicadores y metricas de evaluación al momento de evaluar la clasificación entre dstintos métodos."
      ]
    },
    {
      "cell_type": "markdown",
      "metadata": {
        "id": "fHHfdxK0L3VD"
      },
      "source": [
        "###Exactitud"
      ]
    },
    {
      "cell_type": "markdown",
      "metadata": {
        "id": "JodMVZwSbvbS"
      },
      "source": [
        "Describe la frecuencia con la que el clasificador acierta la predicción."
      ]
    },
    {
      "cell_type": "code",
      "metadata": {
        "id": "_Tp839DDM8hQ",
        "colab": {
          "base_uri": "https://localhost:8080/"
        },
        "outputId": "f8e059c6-a230-4296-c25e-d57d655b9ef3"
      },
      "source": [
        "prec_per = precision_score(y_test, y_pred_per, average=None)\n",
        "prec_log = precision_score(y_test, y_pred_log, average=None)\n",
        "prec_svm = precision_score(y_test, y_pred_svm, average=None)\n",
        "prec_svm_poly = precision_score(y_test, y_pred_svm_poly, average=None)\n",
        "prec_svm_rbf = precision_score(y_test, y_pred_svm_rbf, average=None)\n",
        "prec_tree = precision_score(y_test, y_pred_tree, average=None)\n",
        "\n",
        "print(\"Precisión perceptron:\", prec_per)\n",
        "print(\"Precisión regresión logistica:\", prec_log)\n",
        "print(\"Precisión SVM:\", prec_svm)\n",
        "print(\"Precisión SVM polinomial\", prec_svm_poly)\n",
        "print(\"precisión SVM gaussiana\", prec_svm_rbf)\n",
        "\n"
      ],
      "execution_count": null,
      "outputs": [
        {
          "output_type": "stream",
          "name": "stdout",
          "text": [
            "Precisión perceptron: [0.86666667 0.875      1.         1.         1.         1.        ]\n",
            "Precisión regresión logistica: [1.         0.875      0.33333333 0.         0.         1.\n",
            " 0.5       ]\n",
            "Precisión SVM: [1.         1.         1.         1.         0.66666667 1.        ]\n",
            "Precisión SVM polinomial [1.         0.875      0.33333333 1.         1.         1.        ]\n",
            "precisión SVM gaussiana [0.61904762 1.         0.         0.         1.         1.        ]\n"
          ]
        },
        {
          "output_type": "stream",
          "name": "stderr",
          "text": [
            "/usr/local/lib/python3.7/dist-packages/sklearn/metrics/_classification.py:1272: UndefinedMetricWarning: Precision is ill-defined and being set to 0.0 in labels with no predicted samples. Use `zero_division` parameter to control this behavior.\n",
            "  _warn_prf(average, modifier, msg_start, len(result))\n"
          ]
        }
      ]
    },
    {
      "cell_type": "markdown",
      "metadata": {
        "id": "wwLoP14sMDuJ"
      },
      "source": [
        "###Sensibilidad o tasa verdadera positiva"
      ]
    },
    {
      "cell_type": "markdown",
      "metadata": {
        "id": "zerNKqy4b2pB"
      },
      "source": [
        "Expresa cuán sensible es el clasificador para detectar predicciones acertadas."
      ]
    },
    {
      "cell_type": "code",
      "metadata": {
        "id": "12D-u-hOMMph",
        "colab": {
          "base_uri": "https://localhost:8080/"
        },
        "outputId": "0dd4fee4-7666-426e-c40f-eb770083ee92"
      },
      "source": [
        "from sklearn.metrics import recall_score\n",
        "\n",
        "sens_per = recall_score(y_test, y_pred_per, average=None)\n",
        "sens_log = recall_score(y_test, y_pred_log, average=None)\n",
        "sens_svm = recall_score(y_test, y_pred_svm, average=None)\n",
        "sens_svm_poly = recall_score(y_test, y_pred_svm_poly, average=None)\n",
        "sens_svm_rbf = recall_score(y_test, y_pred_svm_rbf, average=None)\n",
        "\n",
        "print(\"sensibilidad perceptron:\", sens_per)\n",
        "print(\"sensibilidad regresión logistica:\", sens_log)\n",
        "print(\"sensibilidadSVM:\", sens_svm)\n",
        "print(\"sensibilidad SVM polinomial\", sens_svm_poly)\n",
        "print(\"sensibilidad SVM gaussiana\", sens_svm_rbf)"
      ],
      "execution_count": null,
      "outputs": [
        {
          "output_type": "stream",
          "name": "stdout",
          "text": [
            "sensibilidad perceptron: [1.         1.         0.5        0.66666667 1.         0.5       ]\n",
            "sensibilidad regresión logistica: [1.   1.   0.5  0.   0.   0.75 0.5 ]\n",
            "sensibilidadSVM: [1.  1.  0.5 1.  1.  0.5]\n",
            "sensibilidad SVM polinomial [1.         1.         0.5        0.66666667 1.         0.5       ]\n",
            "sensibilidad SVM gaussiana [1.  1.  0.  0.  0.5 0.5]\n"
          ]
        },
        {
          "output_type": "stream",
          "name": "stderr",
          "text": [
            "/usr/local/lib/python3.7/dist-packages/sklearn/metrics/_classification.py:1272: UndefinedMetricWarning: Recall is ill-defined and being set to 0.0 in labels with no true samples. Use `zero_division` parameter to control this behavior.\n",
            "  _warn_prf(average, modifier, msg_start, len(result))\n"
          ]
        }
      ]
    },
    {
      "cell_type": "markdown",
      "metadata": {
        "id": "vR-P1j3cMNLl"
      },
      "source": [
        "###Puntaje de F1"
      ]
    },
    {
      "cell_type": "markdown",
      "metadata": {
        "id": "YFrhZDnHcJtv"
      },
      "source": [
        "Expresa el promedio ponderado entre la precisión y la sensiblidad.\n",
        "Entre mayor puntuación se tiene un mejor modelo"
      ]
    },
    {
      "cell_type": "code",
      "metadata": {
        "id": "H8iAQC4LMBF7",
        "colab": {
          "base_uri": "https://localhost:8080/"
        },
        "outputId": "bb063386-0cd6-4542-d112-796480698be7"
      },
      "source": [
        "from sklearn.metrics import f1_score\n",
        "score_per = f1_score(y_test, y_pred_per, average=None)\n",
        "score_log = f1_score(y_test, y_pred_log, average=None)\n",
        "score_svm = f1_score(y_test, y_pred_svm, average=None)\n",
        "score_svm_poly = f1_score(y_test, y_pred_svm_poly, average=None)\n",
        "score_svm_rbf = f1_score(y_test, y_pred_svm_rbf, average=None)\n",
        "\n",
        "print(\"Puntaje perceptron:\", score_per)\n",
        "print(\"Puntaje regresión logistica:\", score_log)\n",
        "print(\"Puntaje SVM:\", score_svm)\n",
        "print(\"Puntaje SVM polinomial\", score_svm_poly)\n",
        "print(\"Puntaje SVM gaussiana\", score_svm_rbf)\n"
      ],
      "execution_count": null,
      "outputs": [
        {
          "output_type": "stream",
          "name": "stdout",
          "text": [
            "Puntaje perceptron: [0.92857143 0.93333333 0.66666667 0.8        1.         0.66666667]\n",
            "Puntaje regresión logistica: [1.         0.93333333 0.4        0.         0.         0.85714286\n",
            " 0.5       ]\n",
            "Puntaje SVM: [1.         1.         0.66666667 1.         0.8        0.66666667]\n",
            "Puntaje SVM polinomial [1.         0.93333333 0.4        0.8        1.         0.66666667]\n",
            "Puntaje SVM gaussiana [0.76470588 1.         0.         0.         0.66666667 0.66666667]\n"
          ]
        }
      ]
    }
  ]
}